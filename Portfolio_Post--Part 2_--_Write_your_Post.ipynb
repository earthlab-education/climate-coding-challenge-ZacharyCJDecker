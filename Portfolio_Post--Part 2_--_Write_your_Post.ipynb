{
  "cells": [
    {
      "cell_type": "markdown",
      "id": "bac4c77c-5e17-4404-bcf6-9e2f815c570b",
      "metadata": {},
      "source": [
        "# Climate portfolio post\n",
        "\n",
        "Your turn!\n",
        "\n",
        "## Pick a new location and/or measurement to plot\n",
        "🌏 📈\n",
        "\n",
        "Recreate the workflow you just did in a place that interests you OR with\n",
        "a different measurement. You will need to make your own new Markdown and\n",
        "Code cells below this one, or create a new notebook.\n",
        "\n",
        "Your analysis should include:\n",
        "\n",
        "1.  A researched (with citations or links) **site description**,\n",
        "    including *why* you chose the site\n",
        "2.  A researched (with citations or links) **data description**,\n",
        "    including a **data citation**\n",
        "3.  A researched (with citations or links) **methods overview**\n",
        "4.  Some kind of **visual evidence** (plot, chart, diagram) for your\n",
        "    results\n",
        "5.  A **headline and description** for the visual evidence that\n",
        "    *interprets* your analysis and puts it *in context*\n",
        "\n",
        "You should also delete the instructions before submitting a portfolio page.\n",
        "\n",
        "To submit your portfolio post, we're going to do something a little different this week, to see if it is easier:\n",
        "\n",
        " 1. Put it in your portfolio repository, along with any images or interactive html visualization\n",
        " 2. Add a markdown file to the `posts/02-climate` folder that contains a link to your portfolio."
      ]
    },
    {
      "cell_type": "markdown",
      "id": "d2ea6573",
      "metadata": {},
      "source": [
        "## Annual Temperatures in Seattle Wasthington\n",
        "\n",
        "* Below is code to pull, plot, and fit observed temperatures for Rosalia Washington. \n",
        "* The city was chosen because it has a long history of temperature observations from 1901 onward. \n",
        "* Data citation https://www.ncdc.noaa.gov/cdo-web/datasets/GHCND/stations/GHCND:USC00457180/detail\n",
        "* Methods overview"
      ]
    },
    {
      "cell_type": "code",
      "execution_count": 1,
      "id": "aafb433e",
      "metadata": {},
      "outputs": [],
      "source": [
        "# Import required packages\n",
        "import pandas as pd\n",
        "# Advanced options on matplotlib/seaborn/pandas plots\n",
        "import matplotlib.pyplot as plt\n",
        "# Common statistical plots for tabular data\n",
        "import seaborn as sns\n",
        "# Fit an OLS linear regression\n",
        "from sklearn.linear_model import LinearRegression"
      ]
    },
    {
      "cell_type": "code",
      "execution_count": 10,
      "id": "ef60611b",
      "metadata": {},
      "outputs": [
        {
          "data": {
            "text/plain": [
              "'https://www.ncei.noaa.gov/access/services/data/v1?dataset=daily-summaries&dataTypes=TOBS&stations=USC00457180&startDate=2001-01-01&endDate=2023-09-08'"
            ]
          },
          "execution_count": 10,
          "metadata": {},
          "output_type": "execute_result"
        }
      ],
      "source": [
        "# import the data\n",
        "# Create the URL\n",
        "Washington_URL = ('https://www.ncei.noaa.gov/access/services/da'\n",
        "'ta/v1?dataset=daily-summaries&dataTypes=TOBS&stations='\n",
        "'USC00457180&startDate=2001-01-01&endDate=2023-09-08')\n",
        "Washington_URL"
      ]
    },
    {
      "cell_type": "code",
      "execution_count": 12,
      "id": "e26e977f",
      "metadata": {},
      "outputs": [
        {
          "data": {
            "text/html": [
              "<div>\n",
              "<style scoped>\n",
              "    .dataframe tbody tr th:only-of-type {\n",
              "        vertical-align: middle;\n",
              "    }\n",
              "\n",
              "    .dataframe tbody tr th {\n",
              "        vertical-align: top;\n",
              "    }\n",
              "\n",
              "    .dataframe thead th {\n",
              "        text-align: right;\n",
              "    }\n",
              "</style>\n",
              "<table border=\"1\" class=\"dataframe\">\n",
              "  <thead>\n",
              "    <tr style=\"text-align: right;\">\n",
              "      <th></th>\n",
              "      <th>STATION</th>\n",
              "      <th>DATE</th>\n",
              "      <th>TOBS</th>\n",
              "    </tr>\n",
              "  </thead>\n",
              "  <tbody>\n",
              "    <tr>\n",
              "      <th>0</th>\n",
              "      <td>USC00457180</td>\n",
              "      <td>2001-01-01</td>\n",
              "      <td>-6.0</td>\n",
              "    </tr>\n",
              "    <tr>\n",
              "      <th>1</th>\n",
              "      <td>USC00457180</td>\n",
              "      <td>2001-01-02</td>\n",
              "      <td>-22.0</td>\n",
              "    </tr>\n",
              "    <tr>\n",
              "      <th>2</th>\n",
              "      <td>USC00457180</td>\n",
              "      <td>2001-01-03</td>\n",
              "      <td>-33.0</td>\n",
              "    </tr>\n",
              "    <tr>\n",
              "      <th>3</th>\n",
              "      <td>USC00457180</td>\n",
              "      <td>2001-01-04</td>\n",
              "      <td>22.0</td>\n",
              "    </tr>\n",
              "    <tr>\n",
              "      <th>4</th>\n",
              "      <td>USC00457180</td>\n",
              "      <td>2001-01-05</td>\n",
              "      <td>44.0</td>\n",
              "    </tr>\n",
              "    <tr>\n",
              "      <th>...</th>\n",
              "      <td>...</td>\n",
              "      <td>...</td>\n",
              "      <td>...</td>\n",
              "    </tr>\n",
              "    <tr>\n",
              "      <th>8211</th>\n",
              "      <td>USC00457180</td>\n",
              "      <td>2023-09-04</td>\n",
              "      <td>NaN</td>\n",
              "    </tr>\n",
              "    <tr>\n",
              "      <th>8212</th>\n",
              "      <td>USC00457180</td>\n",
              "      <td>2023-09-05</td>\n",
              "      <td>94.0</td>\n",
              "    </tr>\n",
              "    <tr>\n",
              "      <th>8213</th>\n",
              "      <td>USC00457180</td>\n",
              "      <td>2023-09-06</td>\n",
              "      <td>122.0</td>\n",
              "    </tr>\n",
              "    <tr>\n",
              "      <th>8214</th>\n",
              "      <td>USC00457180</td>\n",
              "      <td>2023-09-07</td>\n",
              "      <td>117.0</td>\n",
              "    </tr>\n",
              "    <tr>\n",
              "      <th>8215</th>\n",
              "      <td>USC00457180</td>\n",
              "      <td>2023-09-08</td>\n",
              "      <td>NaN</td>\n",
              "    </tr>\n",
              "  </tbody>\n",
              "</table>\n",
              "<p>8216 rows × 3 columns</p>\n",
              "</div>"
            ],
            "text/plain": [
              "          STATION        DATE   TOBS\n",
              "0     USC00457180  2001-01-01   -6.0\n",
              "1     USC00457180  2001-01-02  -22.0\n",
              "2     USC00457180  2001-01-03  -33.0\n",
              "3     USC00457180  2001-01-04   22.0\n",
              "4     USC00457180  2001-01-05   44.0\n",
              "...           ...         ...    ...\n",
              "8211  USC00457180  2023-09-04    NaN\n",
              "8212  USC00457180  2023-09-05   94.0\n",
              "8213  USC00457180  2023-09-06  122.0\n",
              "8214  USC00457180  2023-09-07  117.0\n",
              "8215  USC00457180  2023-09-08    NaN\n",
              "\n",
              "[8216 rows x 3 columns]"
            ]
          },
          "execution_count": 12,
          "metadata": {},
          "output_type": "execute_result"
        }
      ],
      "source": [
        "climate_df = pd.read_csv(\n",
        "    Washington_URL,\n",
        "    na_values=['NaN'])\n",
        "\n",
        "climate_df"
      ]
    }
  ],
  "metadata": {
    "kernelspec": {
      "display_name": "Python 3",
      "language": "python",
      "name": "python3"
    },
    "language_info": {
      "codemirror_mode": {
        "name": "ipython",
        "version": 3
      },
      "file_extension": ".py",
      "mimetype": "text/x-python",
      "name": "python",
      "nbconvert_exporter": "python",
      "pygments_lexer": "ipython3",
      "version": "3.10.11"
    }
  },
  "nbformat": 4,
  "nbformat_minor": 5
}
